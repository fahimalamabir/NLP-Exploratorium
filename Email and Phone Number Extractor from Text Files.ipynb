{
 "cells": [
  {
   "cell_type": "markdown",
   "metadata": {},
   "source": [
    "# Introduction to regular expressions\n",
    "\n",
    "## basic pracice"
   ]
  },
  {
   "cell_type": "code",
   "execution_count": 1,
   "metadata": {},
   "outputs": [],
   "source": [
    "import re"
   ]
  },
  {
   "cell_type": "code",
   "execution_count": 2,
   "metadata": {},
   "outputs": [],
   "source": [
    "my_string = \"Let's write in Regex!\""
   ]
  },
  {
   "cell_type": "code",
   "execution_count": 5,
   "metadata": {},
   "outputs": [
    {
     "data": {
      "text/plain": [
       "3"
      ]
     },
     "execution_count": 5,
     "metadata": {},
     "output_type": "execute_result"
    }
   ],
   "source": [
    "# find number of spaces \n",
    "pat1 = r\"\\s+\"\n",
    "len(re.findall(pat1,my_string))"
   ]
  },
  {
   "cell_type": "code",
   "execution_count": 8,
   "metadata": {},
   "outputs": [
    {
     "data": {
      "text/plain": [
       "['Let', 's', 'write', 'in', 'Regex']"
      ]
     },
     "execution_count": 8,
     "metadata": {},
     "output_type": "execute_result"
    }
   ],
   "source": [
    "# extract all the words\n",
    "pat2 = r\"\\w+\"\n",
    "re.findall(pat2,my_string)"
   ]
  },
  {
   "cell_type": "code",
   "execution_count": 10,
   "metadata": {},
   "outputs": [
    {
     "data": {
      "text/plain": [
       "['e', 't', 's', 'w', 'r', 'i', 't', 'e', 'i', 'n', 'e', 'g', 'e', 'x']"
      ]
     },
     "execution_count": 10,
     "metadata": {},
     "output_type": "execute_result"
    }
   ],
   "source": [
    "# list all the small letters\n",
    "pat3 = r\"[a-z]\"\n",
    "re.findall(pat3,my_string)"
   ]
  },
  {
   "cell_type": "code",
   "execution_count": 12,
   "metadata": {},
   "outputs": [
    {
     "data": {
      "text/plain": [
       "['L',\n",
       " 'e',\n",
       " 't',\n",
       " 's',\n",
       " 'w',\n",
       " 'r',\n",
       " 'i',\n",
       " 't',\n",
       " 'e',\n",
       " 'i',\n",
       " 'n',\n",
       " 'R',\n",
       " 'e',\n",
       " 'g',\n",
       " 'e',\n",
       " 'x']"
      ]
     },
     "execution_count": 12,
     "metadata": {},
     "output_type": "execute_result"
    }
   ],
   "source": [
    "# list all the letters\n",
    "pat4 = r\"\\w\"\n",
    "re.findall(pat4,my_string)"
   ]
  },
  {
   "cell_type": "code",
   "execution_count": 13,
   "metadata": {},
   "outputs": [],
   "source": [
    "my_string= \"Let's write RegEx!  Won't that be fun?  I sure think so.  Can you find 4 sentences?  Or perhaps, all 19 words?\""
   ]
  },
  {
   "cell_type": "code",
   "execution_count": 14,
   "metadata": {},
   "outputs": [
    {
     "name": "stdout",
     "output_type": "stream",
     "text": [
      "[\"Let's write RegEx\", \"  Won't that be fun\", '  I sure think so', '  Can you find 4 sentences', '  Or perhaps, all 19 words', '']\n"
     ]
    }
   ],
   "source": [
    "# Write a pattern to match sentence endings: sentence_endings\n",
    "sentence_endings = r\"[.?!]\"\n",
    "\n",
    "# Split my_string on sentence endings and print the result\n",
    "print(re.split( sentence_endings,my_string))"
   ]
  },
  {
   "cell_type": "code",
   "execution_count": 15,
   "metadata": {},
   "outputs": [
    {
     "name": "stdout",
     "output_type": "stream",
     "text": [
      "['Let', 'RegEx', 'Won', 'Can', 'Or']\n"
     ]
    }
   ],
   "source": [
    "# Find all capitalized words in my_string and print the result\n",
    "capitalized_words = r\"[A-Z]\\w+\"\n",
    "print(re.findall( capitalized_words,my_string))"
   ]
  },
  {
   "cell_type": "code",
   "execution_count": 16,
   "metadata": {},
   "outputs": [
    {
     "name": "stdout",
     "output_type": "stream",
     "text": [
      "[\"Let's\", 'write', 'RegEx!', \"Won't\", 'that', 'be', 'fun?', 'I', 'sure', 'think', 'so.', 'Can', 'you', 'find', '4', 'sentences?', 'Or', 'perhaps,', 'all', '19', 'words?']\n"
     ]
    }
   ],
   "source": [
    "# Split my_string on spaces and print the result\n",
    "spaces = r\"\\s+\"\n",
    "print(re.split(spaces,my_string))"
   ]
  },
  {
   "cell_type": "code",
   "execution_count": 17,
   "metadata": {},
   "outputs": [
    {
     "name": "stdout",
     "output_type": "stream",
     "text": [
      "['4', '19']\n"
     ]
    }
   ],
   "source": [
    "# Find all digits in my_string and print the result\n",
    "digits = r\"\\d+\"\n",
    "print(re.findall( digits,my_string))"
   ]
  },
  {
   "cell_type": "markdown",
   "metadata": {},
   "source": [
    "# Project Title:\n",
    "Email and Phone Number Extractor from Text Files\n",
    "\n",
    "## Project Description:\n",
    "In this project, we will develop a Python script to extract email addresses and phone numbers from a collection of text files. This kind of task is common in data cleaning and preparation stages of many data analysis workflows. We will use Python's re module to identify and extract these pieces of information, which are often scattered and buried within unstructured text.\n",
    "\n",
    "#### Objectives:\n",
    "- Pattern Recognition: Identify common patterns for phone numbers and email addresses.\n",
    "- Regex Development: Create regular expressions to match these patterns.\n",
    "- Data Extraction: Apply these regex patterns to extract data from text files."
   ]
  },
  {
   "cell_type": "code",
   "execution_count": 18,
   "metadata": {},
   "outputs": [],
   "source": [
    "# Path\n",
    "file_path = 'fake_dataset.txt'\n",
    "\n",
    "# Reading the file\n",
    "with open(file_path, 'r') as file:\n",
    "    data = file.read()\n"
   ]
  },
  {
   "cell_type": "code",
   "execution_count": 19,
   "metadata": {},
   "outputs": [
    {
     "data": {
      "text/plain": [
       "'This is a line of random text for testing purposes.\\nPlease contact us at hexdvxr@gmail.com\\nThis is a line of random text for testing purposes.\\nPlease contact us at hqtargw@example.com\\nFor more information, call (026) 542-3511\\nFor more information, call (940)781-6184\\nThis is a line of random text for testing purposes.\\nThis is a line of random text for testing purposes.\\nPlease contact us at jchdmio@outlook.com\\nPlease contact us at viwvuct@yahoo.com\\nThis is a line of random text for testing purposes.\\nPlease contact us at iuwrhvk@gmail.com\\nPlease contact us at kmicgsw@outlook.com\\nPlease contact us at uoeiehx@outlook.com\\nThis is a line of random text for testing purposes.\\nFor more information, call (532) 871-0122\\nThis is a line of random text for testing purposes.\\nFor more information, call (784)801-8451\\nPlease contact us at xxiqyfq@gmail.com\\nThis is a line of random text for testing purposes.\\nFor more information, call (932) 528-8095\\nFor more information, call 430 391 1718\\nPlease contact us at rfiqtng@yahoo.com\\nThis is a line of random text for testing purposes.\\nFor more information, call 578 713 3150\\nThis is a line of random text for testing purposes.\\nFor more information, call 031 051 8347\\nThis is a line of random text for testing purposes.\\nThis is a line of random text for testing purposes.\\nThis is a line of random text for testing purposes.\\nThis is a line of random text for testing purposes.\\nPlease contact us at ngddvnl@example.com\\nFor more information, call (010) 651-3338\\nPlease contact us at ohcozrd@gmail.com\\nThis is a line of random text for testing purposes.\\nThis is a line of random text for testing purposes.\\nPlease contact us at yhfnppg@example.com\\nThis is a line of random text for testing purposes.\\nPlease contact us at mizzojn@example.com\\nPlease contact us at bsxrbxk@gmail.com\\nPlease contact us at qfbqcfc@gmail.com\\nThis is a line of random text for testing purposes.\\nPlease contact us at shstbtc@example.com\\nThis is a line of random text for testing purposes.\\nThis is a line of random text for testing purposes.\\nPlease contact us at vwkhime@outlook.com\\nFor more information, call (107)991-1838\\nPlease contact us at chljfor@outlook.com\\nThis is a line of random text for testing purposes.\\nThis is a line of random text for testing purposes.'"
      ]
     },
     "execution_count": 19,
     "metadata": {},
     "output_type": "execute_result"
    }
   ],
   "source": [
    "data"
   ]
  },
  {
   "cell_type": "code",
   "execution_count": 20,
   "metadata": {},
   "outputs": [],
   "source": [
    "# Regular expressions for emails and phone numbers\n",
    "email_pattern = re.compile(r\"[a-zA-Z0-9._%+-]+@[a-zA-Z0-9.-]+\\.[a-zA-Z]{2,}\")\n",
    "phone_pattern = re.compile(r\"\\(?\\d{3}\\)?[-.\\s]?\\d{3}[-.\\s]?\\d{4}\")\n",
    "\n",
    "# Finding all matches\n",
    "emails = email_pattern.findall(data)\n",
    "phones = phone_pattern.findall(data)"
   ]
  },
  {
   "cell_type": "code",
   "execution_count": 21,
   "metadata": {},
   "outputs": [
    {
     "name": "stdout",
     "output_type": "stream",
     "text": [
      "Email Addresses Found:\n",
      "hexdvxr@gmail.com\n",
      "hqtargw@example.com\n",
      "jchdmio@outlook.com\n",
      "viwvuct@yahoo.com\n",
      "iuwrhvk@gmail.com\n",
      "kmicgsw@outlook.com\n",
      "uoeiehx@outlook.com\n",
      "xxiqyfq@gmail.com\n",
      "rfiqtng@yahoo.com\n",
      "ngddvnl@example.com\n",
      "ohcozrd@gmail.com\n",
      "yhfnppg@example.com\n",
      "mizzojn@example.com\n",
      "bsxrbxk@gmail.com\n",
      "qfbqcfc@gmail.com\n",
      "shstbtc@example.com\n",
      "vwkhime@outlook.com\n",
      "chljfor@outlook.com\n"
     ]
    }
   ],
   "source": [
    "# Displaying the results\n",
    "print(\"Email Addresses Found:\")\n",
    "for email in emails:\n",
    "    print(email)"
   ]
  },
  {
   "cell_type": "code",
   "execution_count": 22,
   "metadata": {},
   "outputs": [
    {
     "name": "stdout",
     "output_type": "stream",
     "text": [
      "\n",
      "Phone Numbers Found:\n",
      "(026) 542-3511\n",
      "(940)781-6184\n",
      "(532) 871-0122\n",
      "(784)801-8451\n",
      "(932) 528-8095\n",
      "430 391 1718\n",
      "578 713 3150\n",
      "031 051 8347\n",
      "(010) 651-3338\n",
      "(107)991-1838\n"
     ]
    }
   ],
   "source": [
    "print(\"\\nPhone Numbers Found:\")\n",
    "for phone in phones:\n",
    "    print(phone)"
   ]
  }
 ],
 "metadata": {
  "kernelspec": {
   "display_name": "Python 3 (ipykernel)",
   "language": "python",
   "name": "python3"
  },
  "language_info": {
   "codemirror_mode": {
    "name": "ipython",
    "version": 3
   },
   "file_extension": ".py",
   "mimetype": "text/x-python",
   "name": "python",
   "nbconvert_exporter": "python",
   "pygments_lexer": "ipython3",
   "version": "3.7.7"
  }
 },
 "nbformat": 4,
 "nbformat_minor": 4
}
